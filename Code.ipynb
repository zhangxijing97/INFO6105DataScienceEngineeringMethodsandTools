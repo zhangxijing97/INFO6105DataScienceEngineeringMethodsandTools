{
 "cells": [
  {
   "cell_type": "code",
   "execution_count": 44,
   "id": "efab36b5",
   "metadata": {},
   "outputs": [
    {
     "name": "stdout",
     "output_type": "stream",
     "text": [
      "      Unnamed: 0  Patient_Age  Bacteria  Antimicrobial      MIC  \\\n",
      "0              0         21.0         0              0  128.000   \n",
      "1              1         21.0         0              2    0.125   \n",
      "2              2         21.0         0              3    0.064   \n",
      "3              3         21.0         0              7    1.000   \n",
      "4              4         22.0         7              0    3.000   \n",
      "...          ...          ...       ...            ...      ...   \n",
      "1717        2326         30.0         8              2    0.190   \n",
      "1718        2327         30.0         8              3    0.190   \n",
      "1719        2328         30.0         8              4    0.190   \n",
      "1720        2329         30.0         8              5    0.750   \n",
      "1721        2330         30.0         8              6    0.190   \n",
      "\n",
      "      MIC_Interpretation  \n",
      "0                    1.0  \n",
      "1                    2.0  \n",
      "2                    2.0  \n",
      "3                    2.0  \n",
      "4                    NaN  \n",
      "...                  ...  \n",
      "1717                 2.0  \n",
      "1718                 2.0  \n",
      "1719                 NaN  \n",
      "1720                 2.0  \n",
      "1721                 2.0  \n",
      "\n",
      "[1722 rows x 6 columns]\n",
      "      Unnamed: 0  Patient_Age  Bacteria  Antimicrobial      MIC  \\\n",
      "0            0.0         21.0       0.0            0.0  128.000   \n",
      "1            1.0         21.0       0.0            2.0    0.125   \n",
      "2            2.0         21.0       0.0            3.0    0.064   \n",
      "3            3.0         21.0       0.0            7.0    1.000   \n",
      "4            4.0         22.0       7.0            0.0    3.000   \n",
      "...          ...          ...       ...            ...      ...   \n",
      "1717      2326.0         30.0       8.0            2.0    0.190   \n",
      "1718      2327.0         30.0       8.0            3.0    0.190   \n",
      "1719      2328.0         30.0       8.0            4.0    0.190   \n",
      "1720      2329.0         30.0       8.0            5.0    0.750   \n",
      "1721      2330.0         30.0       8.0            6.0    0.190   \n",
      "\n",
      "      MIC_Interpretation  \n",
      "0               1.000000  \n",
      "1               2.000000  \n",
      "2               2.000000  \n",
      "3               2.000000  \n",
      "4               1.720798  \n",
      "...                  ...  \n",
      "1717            2.000000  \n",
      "1718            2.000000  \n",
      "1719            1.923213  \n",
      "1720            2.000000  \n",
      "1721            2.000000  \n",
      "\n",
      "[1722 rows x 6 columns]\n"
     ]
    }
   ],
   "source": [
    "# MICE\n",
    "import numpy as np\n",
    "import pandas as pd\n",
    "from sklearn.experimental import enable_iterative_imputer\n",
    "from sklearn.impute import IterativeImputer\n",
    "\n",
    "# Read data\n",
    "input_dataframe = pd.read_csv(\"/Users/zhangxijing/MasterNEU/INFO6105DataScienceEngineeringMethodsandTools/Dataset/Microbiology_Dataset.csv\")\n",
    "print(input_dataframe)\n",
    "\n",
    "# MICE\n",
    "imputer = IterativeImputer(max_iter=10, random_state=0)\n",
    "imputed_dataset = imputer.fit_transform(input_dataframe)\n",
    "imputed_dataframe = pd.DataFrame(imputed_dataset, columns=input_dataframe.columns)\n",
    "print(imputed_dataframe)"
   ]
  },
  {
   "cell_type": "code",
   "execution_count": 37,
   "id": "c59bb917",
   "metadata": {},
   "outputs": [
    {
     "name": "stdout",
     "output_type": "stream",
     "text": [
      "Predicted Age: 34.87326219387428\n"
     ]
    }
   ],
   "source": [
    "# LinearRegression\n",
    "from sklearn.linear_model import LinearRegression\n",
    "import numpy as np\n",
    "\n",
    "# Example data\n",
    "X = np.array([[1.8538, 50], [3, 72.7748], [5, 110], [7, 140], [9, 170]])  # Experience and Salary\n",
    "y = np.array([25, 27, 29, 31, 33])  # Age\n",
    "\n",
    "# Create linear regression model\n",
    "model = LinearRegression()\n",
    "model.fit(X, y)\n",
    "\n",
    "# Predict the missing age\n",
    "predicted_age = model.predict([[11, 200]])  # Experience = 11, Salary = 200\n",
    "print(\"Predicted Age:\", predicted_age[0])\n",
    "# Predicted Age: 34.87326219387428"
   ]
  },
  {
   "cell_type": "code",
   "execution_count": 38,
   "id": "9f6964e7",
   "metadata": {},
   "outputs": [
    {
     "name": "stdout",
     "output_type": "stream",
     "text": [
      "   Experience      Salary        Age\n",
      "0    1.000924   50.000000  25.000000\n",
      "1    3.000000   79.998886  27.000000\n",
      "2    5.000000  110.000000  29.000000\n",
      "3    7.000000  140.000000  31.000000\n",
      "4    9.000000  170.000000  33.000000\n",
      "5   11.000000  200.000000  34.999994\n"
     ]
    }
   ],
   "source": [
    "# Impute missing values using IterativeImputer\n",
    "import numpy as np\n",
    "import pandas as pd\n",
    "from sklearn.experimental import enable_iterative_imputer\n",
    "from sklearn.impute import IterativeImputer\n",
    "\n",
    "# Example data\n",
    "data = {\n",
    "    'Experience': [np.nan, 3, 5, 7, 9, 11],\n",
    "    'Salary': [50, np.nan, 110, 140, 170, 200],\n",
    "    'Age': [25, 27, 29, 31, 33, np.nan]\n",
    "}\n",
    "\n",
    "# Create a DataFrame\n",
    "df = pd.DataFrame(data)\n",
    "\n",
    "# Apply MICE\n",
    "imputer = IterativeImputer(max_iter=10, random_state=0)\n",
    "imputed_data = imputer.fit_transform(df)\n",
    "imputed_df = pd.DataFrame(imputed_data, columns=df.columns)\n",
    "\n",
    "# Print the imputed DataFrame\n",
    "print(imputed_df)"
   ]
  },
  {
   "cell_type": "code",
   "execution_count": 34,
   "id": "7503463a",
   "metadata": {},
   "outputs": [
    {
     "name": "stdout",
     "output_type": "stream",
     "text": [
      "     Original Data Binned Category  Midpoints\n",
      "0                2    (0.999, 2.0]     1.4995\n",
      "1                2    (0.999, 2.0]     1.4995\n",
      "2                2    (0.999, 2.0]     1.4995\n",
      "3                4      (2.0, 4.0]     3.0000\n",
      "4                4      (2.0, 4.0]     3.0000\n",
      "..             ...             ...        ...\n",
      "119              6     (4.0, 10.0]     7.0000\n",
      "120              2    (0.999, 2.0]     1.4995\n",
      "121              3      (2.0, 4.0]     3.0000\n",
      "122              7     (4.0, 10.0]     7.0000\n",
      "123              1    (0.999, 2.0]     1.4995\n",
      "\n",
      "[124 rows x 3 columns]\n"
     ]
    }
   ],
   "source": [
    "# Binning\n",
    "import numpy as np\n",
    "import pandas as p\n",
    "\n",
    "# Your data\n",
    "data = np.array([2, 2, 2, 4, 4, 3, 1, 4, 2, 1, 3, 4, 1, 1, 4, 7, 4, 1, 1, 2, 4, 3, 4, 3, 3, 2, 5, 2, 3, 2, 3, 4, 2, 10, 4, 4, 6, 3, 3, 1, 1, 2, 1, 3, 2, 4, 5, 2, 4, 3, 2, 3, 4, 3, 1, 1, 6, 3, 6, 5, 7, 2, 1, 1, 6, 5, 1, 1, 1, 2, 2, 1, 2, 2, 4, 4, 1, 5, 7, 2, 1, 2, 1, 5, 3, 1, 1, 2, 3, 3, 5, 4, 4, 6, 1, 4, 4, 1, 3, 4, 4, 5, 4, 4, 1, 1, 3, 1, 2, 1, 3, 7, 2, 1, 1, 3, 3, 6, 1, 6, 2, 3, 7, 1])\n",
    "\n",
    "# Perform quantile-based binning\n",
    "bins = pd.qcut(data, q=3)\n",
    "\n",
    "# Create a Pandas Series with the midpoints of the bins\n",
    "midpoints_series = pd.Series([interval.mid for interval in bins])\n",
    "\n",
    "# Create a DataFrame to visualize the original data, binned categories, and midpoints\n",
    "df = pd.DataFrame({'Original Data': data, 'Binned Category': bins, 'Midpoints': midpoints_series})\n",
    "\n",
    "# Display the DataFrame\n",
    "print(df)"
   ]
  },
  {
   "cell_type": "code",
   "execution_count": 45,
   "id": "d8978b5e",
   "metadata": {},
   "outputs": [
    {
     "name": "stdout",
     "output_type": "stream",
     "text": [
      "      Original Data Binned Category  Midpoints\n",
      "0           128.000    (1.0, 256.0]   128.5000\n",
      "1             0.125  (0.001, 0.125]     0.0630\n",
      "2             0.064  (0.001, 0.125]     0.0630\n",
      "3             1.000    (0.125, 1.0]     0.5625\n",
      "4             3.000    (1.0, 256.0]   128.5000\n",
      "...             ...             ...        ...\n",
      "1717          0.190    (0.125, 1.0]     0.5625\n",
      "1718          0.190    (0.125, 1.0]     0.5625\n",
      "1719          0.190    (0.125, 1.0]     0.5625\n",
      "1720          0.750    (0.125, 1.0]     0.5625\n",
      "1721          0.190    (0.125, 1.0]     0.5625\n",
      "\n",
      "[1722 rows x 3 columns]\n"
     ]
    }
   ],
   "source": [
    "# Binning\n",
    "imputed_dataframe['MIC_bin'] = pd.qcut(imputed_dataframe['MIC'], q=3)\n",
    "# imputed_dataframe['MIC'] = pd.Series ([interval.mid for interval in imputed_dataframe['MIC_bin']])\n",
    "# print(imputed_dataframe)\n",
    "\n",
    "# Extract midpoints of the bins\n",
    "midpoints_series = pd.Series([interval.mid for interval in imputed_dataframe['MIC_bin']])\n",
    "\n",
    "# Create a DataFrame to display Original Data, Binned Category, and Midpoints\n",
    "result_df = pd.DataFrame({\n",
    "    'Original Data': imputed_dataframe['MIC'],\n",
    "    'Binned Category': imputed_dataframe['MIC_bin'],\n",
    "    'Midpoints': midpoints_series\n",
    "})\n",
    "\n",
    "# Display the DataFrame\n",
    "print(result_df)\n",
    "\n",
    "# Put result back to the df\n",
    "imputed_dataframe['MIC'] = pd.Series ([interval.mid for interval in imputed_dataframe['MIC_bin']])"
   ]
  },
  {
   "cell_type": "code",
   "execution_count": null,
   "id": "ec84b364",
   "metadata": {},
   "outputs": [],
   "source": []
  }
 ],
 "metadata": {
  "kernelspec": {
   "display_name": "Python 3 (ipykernel)",
   "language": "python",
   "name": "python3"
  },
  "language_info": {
   "codemirror_mode": {
    "name": "ipython",
    "version": 3
   },
   "file_extension": ".py",
   "mimetype": "text/x-python",
   "name": "python",
   "nbconvert_exporter": "python",
   "pygments_lexer": "ipython3",
   "version": "3.11.4"
  }
 },
 "nbformat": 4,
 "nbformat_minor": 5
}
