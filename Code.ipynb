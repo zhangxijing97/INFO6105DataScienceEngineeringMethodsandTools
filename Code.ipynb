{
 "cells": [
  {
   "cell_type": "code",
   "execution_count": 17,
   "id": "efab36b5",
   "metadata": {},
   "outputs": [
    {
     "name": "stdout",
     "output_type": "stream",
     "text": [
      "      Unnamed: 0  Patient_Age  Bacteria  Antimicrobial      MIC  \\\n",
      "0              0         21.0         0              0  128.000   \n",
      "1              1         21.0         0              2    0.125   \n",
      "2              2         21.0         0              3    0.064   \n",
      "3              3         21.0         0              7    1.000   \n",
      "4              4         22.0         7              0    3.000   \n",
      "...          ...          ...       ...            ...      ...   \n",
      "1717        2326         30.0         8              2    0.190   \n",
      "1718        2327         30.0         8              3    0.190   \n",
      "1719        2328         30.0         8              4    0.190   \n",
      "1720        2329         30.0         8              5    0.750   \n",
      "1721        2330         30.0         8              6    0.190   \n",
      "\n",
      "      MIC_Interpretation  \n",
      "0                    1.0  \n",
      "1                    2.0  \n",
      "2                    2.0  \n",
      "3                    2.0  \n",
      "4                    NaN  \n",
      "...                  ...  \n",
      "1717                 2.0  \n",
      "1718                 2.0  \n",
      "1719                 NaN  \n",
      "1720                 2.0  \n",
      "1721                 2.0  \n",
      "\n",
      "[1722 rows x 6 columns]\n",
      "      Unnamed: 0  Patient_Age  Bacteria  Antimicrobial      MIC  \\\n",
      "0            0.0         21.0       0.0            0.0  128.000   \n",
      "1            1.0         21.0       0.0            2.0    0.125   \n",
      "2            2.0         21.0       0.0            3.0    0.064   \n",
      "3            3.0         21.0       0.0            7.0    1.000   \n",
      "4            4.0         22.0       7.0            0.0    3.000   \n",
      "...          ...          ...       ...            ...      ...   \n",
      "1717      2326.0         30.0       8.0            2.0    0.190   \n",
      "1718      2327.0         30.0       8.0            3.0    0.190   \n",
      "1719      2328.0         30.0       8.0            4.0    0.190   \n",
      "1720      2329.0         30.0       8.0            5.0    0.750   \n",
      "1721      2330.0         30.0       8.0            6.0    0.190   \n",
      "\n",
      "      MIC_Interpretation  \n",
      "0               1.000000  \n",
      "1               2.000000  \n",
      "2               2.000000  \n",
      "3               2.000000  \n",
      "4               1.720798  \n",
      "...                  ...  \n",
      "1717            2.000000  \n",
      "1718            2.000000  \n",
      "1719            1.923213  \n",
      "1720            2.000000  \n",
      "1721            2.000000  \n",
      "\n",
      "[1722 rows x 6 columns]\n"
     ]
    }
   ],
   "source": [
    "# MICE\n",
    "import numpy as np\n",
    "import pandas as pd\n",
    "from sklearn.experimental import enable_iterative_imputer\n",
    "from sklearn.impute import IterativeImputer\n",
    "\n",
    "# Read data\n",
    "input_dataframe = pd.read_csv(\"/Users/zhangxijing/MasterNEU/INFO6105DataScienceEngineeringMethodsandTools/Dataset/Microbiology_Dataset.csv\")\n",
    "print(input_dataframe)\n",
    "\n",
    "# MICE\n",
    "imputer = IterativeImputer(max_iter=10, random_state=0)\n",
    "imputed_dataset = imputer.fit_transform(input_dataframe)\n",
    "imputed_dataframe = pd.DataFrame(imputed_dataset, columns=input_dataframe.columns)\n",
    "print(imputed_dataframe)"
   ]
  },
  {
   "cell_type": "code",
   "execution_count": 18,
   "id": "c59bb917",
   "metadata": {},
   "outputs": [
    {
     "name": "stdout",
     "output_type": "stream",
     "text": [
      "Predicted Age: 34.87326219387428\n"
     ]
    }
   ],
   "source": [
    "# LinearRegression\n",
    "from sklearn.linear_model import LinearRegression\n",
    "import numpy as np\n",
    "\n",
    "# Example data\n",
    "X = np.array([[1.8538, 50], [3, 72.7748], [5, 110], [7, 140], [9, 170]])  # Experience and Salary\n",
    "y = np.array([25, 27, 29, 31, 33])  # Age\n",
    "\n",
    "# Create linear regression model\n",
    "model = LinearRegression()\n",
    "model.fit(X, y)\n",
    "\n",
    "# Predict the missing age\n",
    "predicted_age = model.predict([[11, 200]])  # Experience = 11, Salary = 200\n",
    "print(\"Predicted Age:\", predicted_age[0])\n",
    "# Predicted Age: 34.87326219387428"
   ]
  },
  {
   "cell_type": "code",
   "execution_count": 32,
   "id": "7283eae1",
   "metadata": {},
   "outputs": [
    {
     "name": "stdout",
     "output_type": "stream",
     "text": [
      "   Experience      Salary        Age\n",
      "0    1.000924   50.000000  25.000000\n",
      "1    3.000000   79.998886  27.000000\n",
      "2    5.000000  110.000000  29.000000\n",
      "3    7.000000  140.000000  31.000000\n",
      "4    9.000000  170.000000  33.000000\n",
      "5   11.000000  200.000000  34.999994\n"
     ]
    }
   ],
   "source": [
    "# Impute missing values using IterativeImputer\n",
    "import numpy as np\n",
    "import pandas as pd\n",
    "from sklearn.experimental import enable_iterative_imputer\n",
    "from sklearn.impute import IterativeImputer\n",
    "\n",
    "# Example data\n",
    "data = {\n",
    "    'Experience': [np.nan, 3, 5, 7, 9, 11],\n",
    "    'Salary': [50, np.nan, 110, 140, 170, 200],\n",
    "    'Age': [25, 27, 29, 31, 33, np.nan]\n",
    "}\n",
    "\n",
    "# Create a DataFrame\n",
    "df = pd.DataFrame(data)\n",
    "\n",
    "# Apply MICE\n",
    "imputer = IterativeImputer(max_iter=10, random_state=0)\n",
    "imputed_data = imputer.fit_transform(df)\n",
    "imputed_df = pd.DataFrame(imputed_data, columns=df.columns)\n",
    "\n",
    "# Print the imputed DataFrame\n",
    "print(imputed_df)"
   ]
  },
  {
   "cell_type": "code",
   "execution_count": null,
   "id": "d0ad8121",
   "metadata": {},
   "outputs": [],
   "source": []
  }
 ],
 "metadata": {
  "kernelspec": {
   "display_name": "Python 3 (ipykernel)",
   "language": "python",
   "name": "python3"
  },
  "language_info": {
   "codemirror_mode": {
    "name": "ipython",
    "version": 3
   },
   "file_extension": ".py",
   "mimetype": "text/x-python",
   "name": "python",
   "nbconvert_exporter": "python",
   "pygments_lexer": "ipython3",
   "version": "3.11.4"
  }
 },
 "nbformat": 4,
 "nbformat_minor": 5
}
