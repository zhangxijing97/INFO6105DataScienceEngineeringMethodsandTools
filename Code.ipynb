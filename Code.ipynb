{
 "cells": [
  {
   "cell_type": "code",
   "execution_count": 12,
   "id": "efab36b5",
   "metadata": {},
   "outputs": [
    {
     "name": "stdout",
     "output_type": "stream",
     "text": [
      "      Unnamed: 0  Patient_Age  Bacteria  Antimicrobial      MIC  \\\n",
      "0              0         21.0         0              0  128.000   \n",
      "1              1         21.0         0              2    0.125   \n",
      "2              2         21.0         0              3    0.064   \n",
      "3              3         21.0         0              7    1.000   \n",
      "4              4         22.0         7              0    3.000   \n",
      "...          ...          ...       ...            ...      ...   \n",
      "1717        2326         30.0         8              2    0.190   \n",
      "1718        2327         30.0         8              3    0.190   \n",
      "1719        2328         30.0         8              4    0.190   \n",
      "1720        2329         30.0         8              5    0.750   \n",
      "1721        2330         30.0         8              6    0.190   \n",
      "\n",
      "      MIC_Interpretation  \n",
      "0                    1.0  \n",
      "1                    2.0  \n",
      "2                    2.0  \n",
      "3                    2.0  \n",
      "4                    NaN  \n",
      "...                  ...  \n",
      "1717                 2.0  \n",
      "1718                 2.0  \n",
      "1719                 NaN  \n",
      "1720                 2.0  \n",
      "1721                 2.0  \n",
      "\n",
      "[1722 rows x 6 columns]\n",
      "      Unnamed: 0  Patient_Age  Bacteria  Antimicrobial      MIC  \\\n",
      "0            0.0         21.0       0.0            0.0  128.000   \n",
      "1            1.0         21.0       0.0            2.0    0.125   \n",
      "2            2.0         21.0       0.0            3.0    0.064   \n",
      "3            3.0         21.0       0.0            7.0    1.000   \n",
      "4            4.0         22.0       7.0            0.0    3.000   \n",
      "...          ...          ...       ...            ...      ...   \n",
      "1717      2326.0         30.0       8.0            2.0    0.190   \n",
      "1718      2327.0         30.0       8.0            3.0    0.190   \n",
      "1719      2328.0         30.0       8.0            4.0    0.190   \n",
      "1720      2329.0         30.0       8.0            5.0    0.750   \n",
      "1721      2330.0         30.0       8.0            6.0    0.190   \n",
      "\n",
      "      MIC_Interpretation  \n",
      "0               1.000000  \n",
      "1               2.000000  \n",
      "2               2.000000  \n",
      "3               2.000000  \n",
      "4               1.720798  \n",
      "...                  ...  \n",
      "1717            2.000000  \n",
      "1718            2.000000  \n",
      "1719            1.923213  \n",
      "1720            2.000000  \n",
      "1721            2.000000  \n",
      "\n",
      "[1722 rows x 6 columns]\n"
     ]
    }
   ],
   "source": [
    "import numpy as np\n",
    "import pandas as pd\n",
    "from sklearn.experimental import enable_iterative_imputer\n",
    "from sklearn.impute import IterativeImputer\n",
    "\n",
    "# Read data\n",
    "input_dataframe = pd.read_csv(\"/Users/zhangxijing/MasterNEU/INFO6105DataScienceEngineeringMethodsandTools/Dataset/Microbiology_Dataset.csv\")\n",
    "print(input_dataframe)\n",
    "\n",
    "# MICE\n",
    "imputer = IterativeImputer(max_iter=10, random_state=0)\n",
    "imputed_dataset = imputer.fit_transform(input_dataframe)\n",
    "imputed_dataframe = pd.DataFrame(imputed_dataset, columns=input_dataframe.columns)\n",
    "print(imputed_dataframe)"
   ]
  },
  {
   "cell_type": "code",
   "execution_count": null,
   "id": "c59bb917",
   "metadata": {},
   "outputs": [],
   "source": []
  }
 ],
 "metadata": {
  "kernelspec": {
   "display_name": "Python 3 (ipykernel)",
   "language": "python",
   "name": "python3"
  },
  "language_info": {
   "codemirror_mode": {
    "name": "ipython",
    "version": 3
   },
   "file_extension": ".py",
   "mimetype": "text/x-python",
   "name": "python",
   "nbconvert_exporter": "python",
   "pygments_lexer": "ipython3",
   "version": "3.11.4"
  }
 },
 "nbformat": 4,
 "nbformat_minor": 5
}
