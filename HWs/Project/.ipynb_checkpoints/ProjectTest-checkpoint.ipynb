{
 "cells": [
  {
   "cell_type": "code",
   "execution_count": null,
   "id": "ffda8a30",
   "metadata": {},
   "outputs": [],
   "source": [
    "import numpy as np\n",
    "import pandas as pd\n",
    "from sklearn.experimental import enable_iterative_imputer\n",
    "from sklearn.impute import IterativeImputer\n",
    "from sklearn.preprocessing import LabelEncoder"
   ]
  },
  {
   "cell_type": "code",
   "execution_count": 2,
   "id": "8e2fa736",
   "metadata": {},
   "outputs": [
    {
     "ename": "NameError",
     "evalue": "name 'pd' is not defined",
     "output_type": "error",
     "traceback": [
      "\u001b[0;31m---------------------------------------------------------------------------\u001b[0m",
      "\u001b[0;31mNameError\u001b[0m                                 Traceback (most recent call last)",
      "Cell \u001b[0;32mIn[2], line 31\u001b[0m\n\u001b[1;32m     27\u001b[0m     \u001b[38;5;28;01mreturn\u001b[39;00m imputed_dataframe\n\u001b[1;32m     30\u001b[0m \u001b[38;5;66;03m#Input Dateset\u001b[39;00m\n\u001b[0;32m---> 31\u001b[0m org_df \u001b[38;5;241m=\u001b[39m pd\u001b[38;5;241m.\u001b[39mread_csv(\u001b[38;5;124m\"\u001b[39m\u001b[38;5;124m/Users/zhangxijing/MasterNEU/INFO6105DataScienceEngineeringMethodsandTools/Dataset/diabetes_project.csv\u001b[39m\u001b[38;5;124m\"\u001b[39m)\n\u001b[1;32m     32\u001b[0m train_feat \u001b[38;5;241m=\u001b[39m prepare_data(org_df)\n",
      "\u001b[0;31mNameError\u001b[0m: name 'pd' is not defined"
     ]
    }
   ],
   "source": [
    "def normalize_data(org_df,col):\n",
    "    col_array = np.array(org_df[col]).reshape(-1, 1)\n",
    "    scaler = preprocessing.StandardScaler()\n",
    "    scaler.fit(col_array)\n",
    "    org_df[col] = scaler.transform(col_array)\n",
    "    return org_df\n",
    "\n",
    "def prepare_data(org_df):\n",
    "    #select target attributes\n",
    "    org_df = org_df.loc[:,org_df.columns.isin(['Gender','Age', 'Income', 'Spending'])]\n",
    "\n",
    "#     # Categorical to Numeric\n",
    "#     org_df = pd.get_dummies(org_df, columns=['Gender'], dtype='int')\n",
    "\n",
    "    #remove_outliers in Age\n",
    "    values = [vl for vl in org_df['Age'] if not np.isnan(vl)]\n",
    "    q3, q1 = np.percentile(values, [75, 25])\n",
    "    fence = 1.5 * (q3 - q1)\n",
    "    upper_band = q3 + fence\n",
    "    lower_band = q1 - fence\n",
    "    org_df.loc[(org_df['Age'] < lower_band) | (org_df['Age'] > upper_band), 'Age'] = None\n",
    "\n",
    "    #impute dataset\n",
    "    imputer = IterativeImputer(max_iter=10, random_state=0)\n",
    "    imputed_dataset = imputer.fit_transform(org_df)\n",
    "    imputed_dataframe = pd.DataFrame(imputed_dataset, columns=org_df.columns)\n",
    "    return imputed_dataframe\n",
    "\n",
    "\n",
    "#Input Dateset\n",
    "org_df = pd.read_csv(\"/Users/zhangxijing/MasterNEU/INFO6105DataScienceEngineeringMethodsandTools/Dataset/diabetes_project.csv\")\n",
    "train_feat = prepare_data(org_df)"
   ]
  },
  {
   "cell_type": "code",
   "execution_count": null,
   "id": "1ca52288",
   "metadata": {},
   "outputs": [],
   "source": []
  }
 ],
 "metadata": {
  "kernelspec": {
   "display_name": "Python 3 (ipykernel)",
   "language": "python",
   "name": "python3"
  },
  "language_info": {
   "codemirror_mode": {
    "name": "ipython",
    "version": 3
   },
   "file_extension": ".py",
   "mimetype": "text/x-python",
   "name": "python",
   "nbconvert_exporter": "python",
   "pygments_lexer": "ipython3",
   "version": "3.11.4"
  }
 },
 "nbformat": 4,
 "nbformat_minor": 5
}
