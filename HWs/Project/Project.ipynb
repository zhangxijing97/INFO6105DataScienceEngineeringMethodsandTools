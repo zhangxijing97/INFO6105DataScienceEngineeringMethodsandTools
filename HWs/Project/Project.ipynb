{
 "cells": [
  {
   "cell_type": "code",
   "execution_count": 24,
   "id": "cdcb151e",
   "metadata": {},
   "outputs": [
    {
     "name": "stdout",
     "output_type": "stream",
     "text": [
      "Cross-validated accuracy: 0.99\n"
     ]
    }
   ],
   "source": [
    "import numpy as np\n",
    "import pandas as pd\n",
    "from sklearn.preprocessing import StandardScaler\n",
    "from sklearn.impute import KNNImputer\n",
    "from sklearn.cluster import KMeans\n",
    "from sklearn.model_selection import train_test_split, cross_val_score\n",
    "from sklearn.linear_model import LogisticRegression\n",
    "from sklearn.ensemble import RandomForestClassifier, VotingClassifier\n",
    "from sklearn.metrics import accuracy_score\n",
    "\n",
    "# Load data\n",
    "file_path = '/Users/zhangxijing/MasterNEU/INFO6105DataScienceEngineeringMethodsandTools/Dataset/diabetes_project.csv'\n",
    "data = pd.read_csv(file_path)\n",
    "\n",
    "# Preprocess data: Remove outliers, impute missing values, normalize\n",
    "def preprocess_data(data):\n",
    "    for column in data.columns:\n",
    "        Q1 = data[column].quantile(0.25)\n",
    "        Q3 = data[column].quantile(0.75)\n",
    "        IQR = Q3 - Q1\n",
    "        data = data[(data[column] >= (Q1 - 1.5 * IQR)) & (data[column] <= (Q3 + 1.5 * IQR))]\n",
    "\n",
    "    imputer = KNNImputer(n_neighbors=5)\n",
    "    data = pd.DataFrame(imputer.fit_transform(data), columns=data.columns)\n",
    "\n",
    "    scaler = StandardScaler()\n",
    "    data = pd.DataFrame(scaler.fit_transform(data), columns=data.columns)\n",
    "    return data\n",
    "\n",
    "data = preprocess_data(data)\n",
    "\n",
    "# Unsupervised learning for label generation\n",
    "def generate_labels(data):\n",
    "    clustering_features = data[['Glucose', 'BMI', 'Age']]\n",
    "    kmeans = KMeans(n_clusters=2, random_state=42, n_init=10)\n",
    "    clusters = kmeans.fit_predict(clustering_features)\n",
    "    data['Outcome'] = clusters\n",
    "    cluster0_mean_glucose = data.loc[data['Outcome'] == 0, 'Glucose'].mean()\n",
    "    cluster1_mean_glucose = data.loc[data['Outcome'] == 1, 'Glucose'].mean()\n",
    "    if cluster0_mean_glucose > cluster1_mean_glucose:\n",
    "        data['Outcome'] = data['Outcome'].replace({0: 1, 1: 0})\n",
    "    return data\n",
    "\n",
    "data = generate_labels(data)\n",
    "\n",
    "# Split data\n",
    "X = data.drop('Outcome', axis=1)\n",
    "y = data['Outcome']\n",
    "X_train, X_test, y_train, y_test = train_test_split(X, y, test_size=0.2, random_state=42)\n",
    "\n",
    "# Ensemble model with cross-validation\n",
    "def build_ensemble(X_train, y_train):\n",
    "    models = [\n",
    "        ('lr', LogisticRegression(max_iter=1000)),\n",
    "        ('rf', RandomForestClassifier(n_estimators=100, random_state=42))\n",
    "    ]\n",
    "    ensemble = VotingClassifier(estimators=models, voting='soft')\n",
    "    ensemble.fit(X_train, y_train)\n",
    "    return ensemble\n",
    "\n",
    "ensemble = build_ensemble(X_train, y_train)\n",
    "\n",
    "# Evaluate the model using cross-validation\n",
    "scores = cross_val_score(ensemble, X, y, cv=5)\n",
    "accuracy = scores.mean()\n",
    "print(f'Cross-validated accuracy: {accuracy:.2f}')"
   ]
  },
  {
   "cell_type": "code",
   "execution_count": null,
   "id": "3706b478",
   "metadata": {},
   "outputs": [],
   "source": []
  }
 ],
 "metadata": {
  "kernelspec": {
   "display_name": "Python 3 (ipykernel)",
   "language": "python",
   "name": "python3"
  },
  "language_info": {
   "codemirror_mode": {
    "name": "ipython",
    "version": 3
   },
   "file_extension": ".py",
   "mimetype": "text/x-python",
   "name": "python",
   "nbconvert_exporter": "python",
   "pygments_lexer": "ipython3",
   "version": "3.11.4"
  }
 },
 "nbformat": 4,
 "nbformat_minor": 5
}
