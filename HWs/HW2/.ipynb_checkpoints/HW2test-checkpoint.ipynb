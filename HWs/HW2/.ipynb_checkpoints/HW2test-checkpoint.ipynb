{
 "cells": [
  {
   "cell_type": "code",
   "execution_count": 20,
   "id": "1896819c",
   "metadata": {},
   "outputs": [
    {
     "name": "stdout",
     "output_type": "stream",
     "text": [
      "[0.         0.03418491]\n"
     ]
    },
    {
     "ename": "InvalidParameterError",
     "evalue": "The 'feature_names' parameter of plot_tree must be an instance of 'list' or None. Got Index(['Patient_Age', 'Antimicrobial_AMP ', 'Antimicrobial_CAZ ',\n       'Antimicrobial_CIP ', 'Antimicrobial_COT ', 'Antimicrobial_CTX ',\n       'Antimicrobial_GEN ', 'Antimicrobial_IMI ', 'Antimicrobial_TET ',\n       'Bacteria_Vibrio alginolyticus', 'Bacteria_Vibrio fluvialis',\n       'Bacteria_Vibrio furnissii', 'Bacteria_Vibrio harveyi',\n       'Bacteria_Vibrio metschnikovii', 'Bacteria_Vibrio mimicus',\n       'Bacteria_Vibrio navarrensis', 'Bacteria_Vibrio other',\n       'Bacteria_Vibrio parahaemolyticus', 'Bacteria_Vibrio unknown',\n       'Bacteria_Vibrio vulnificus'],\n      dtype='object') instead.",
     "output_type": "error",
     "traceback": [
      "\u001b[0;31m---------------------------------------------------------------------------\u001b[0m",
      "\u001b[0;31mInvalidParameterError\u001b[0m                     Traceback (most recent call last)",
      "Cell \u001b[0;32mIn[20], line 73\u001b[0m\n\u001b[1;32m     71\u001b[0m \u001b[38;5;66;03m#Visualize the model\u001b[39;00m\n\u001b[1;32m     72\u001b[0m plt\u001b[38;5;241m.\u001b[39mfigure(figsize\u001b[38;5;241m=\u001b[39m(\u001b[38;5;241m10\u001b[39m,\u001b[38;5;241m10\u001b[39m))\n\u001b[0;32m---> 73\u001b[0m tree\u001b[38;5;241m.\u001b[39mplot_tree(treemodel,feature_names\u001b[38;5;241m=\u001b[39mtrain_feat\u001b[38;5;241m.\u001b[39mcolumns,class_names\u001b[38;5;241m=\u001b[39m[\u001b[38;5;124m'\u001b[39m\u001b[38;5;124mNot Resistant\u001b[39m\u001b[38;5;124m'\u001b[39m,\u001b[38;5;124m'\u001b[39m\u001b[38;5;124mResistant\u001b[39m\u001b[38;5;124m'\u001b[39m],filled\u001b[38;5;241m=\u001b[39m\u001b[38;5;28;01mTrue\u001b[39;00m)\n\u001b[1;32m     74\u001b[0m plt\u001b[38;5;241m.\u001b[39mshow()\n\u001b[1;32m     76\u001b[0m train_pred_label \u001b[38;5;241m=\u001b[39m treemodel\u001b[38;5;241m.\u001b[39mpredict(train_feat)\n",
      "File \u001b[0;32m~/anaconda3/lib/python3.11/site-packages/sklearn/utils/_param_validation.py:201\u001b[0m, in \u001b[0;36mvalidate_params.<locals>.decorator.<locals>.wrapper\u001b[0;34m(*args, **kwargs)\u001b[0m\n\u001b[1;32m    198\u001b[0m to_ignore \u001b[38;5;241m+\u001b[39m\u001b[38;5;241m=\u001b[39m [\u001b[38;5;124m\"\u001b[39m\u001b[38;5;124mself\u001b[39m\u001b[38;5;124m\"\u001b[39m, \u001b[38;5;124m\"\u001b[39m\u001b[38;5;124mcls\u001b[39m\u001b[38;5;124m\"\u001b[39m]\n\u001b[1;32m    199\u001b[0m params \u001b[38;5;241m=\u001b[39m {k: v \u001b[38;5;28;01mfor\u001b[39;00m k, v \u001b[38;5;129;01min\u001b[39;00m params\u001b[38;5;241m.\u001b[39marguments\u001b[38;5;241m.\u001b[39mitems() \u001b[38;5;28;01mif\u001b[39;00m k \u001b[38;5;129;01mnot\u001b[39;00m \u001b[38;5;129;01min\u001b[39;00m to_ignore}\n\u001b[0;32m--> 201\u001b[0m validate_parameter_constraints(\n\u001b[1;32m    202\u001b[0m     parameter_constraints, params, caller_name\u001b[38;5;241m=\u001b[39mfunc\u001b[38;5;241m.\u001b[39m\u001b[38;5;18m__qualname__\u001b[39m\n\u001b[1;32m    203\u001b[0m )\n\u001b[1;32m    205\u001b[0m \u001b[38;5;28;01mtry\u001b[39;00m:\n\u001b[1;32m    206\u001b[0m     \u001b[38;5;28;01mwith\u001b[39;00m config_context(\n\u001b[1;32m    207\u001b[0m         skip_parameter_validation\u001b[38;5;241m=\u001b[39m(\n\u001b[1;32m    208\u001b[0m             prefer_skip_nested_validation \u001b[38;5;129;01mor\u001b[39;00m global_skip_validation\n\u001b[1;32m    209\u001b[0m         )\n\u001b[1;32m    210\u001b[0m     ):\n",
      "File \u001b[0;32m~/anaconda3/lib/python3.11/site-packages/sklearn/utils/_param_validation.py:95\u001b[0m, in \u001b[0;36mvalidate_parameter_constraints\u001b[0;34m(parameter_constraints, params, caller_name)\u001b[0m\n\u001b[1;32m     89\u001b[0m \u001b[38;5;28;01melse\u001b[39;00m:\n\u001b[1;32m     90\u001b[0m     constraints_str \u001b[38;5;241m=\u001b[39m (\n\u001b[1;32m     91\u001b[0m         \u001b[38;5;124mf\u001b[39m\u001b[38;5;124m\"\u001b[39m\u001b[38;5;132;01m{\u001b[39;00m\u001b[38;5;124m'\u001b[39m\u001b[38;5;124m, \u001b[39m\u001b[38;5;124m'\u001b[39m\u001b[38;5;241m.\u001b[39mjoin([\u001b[38;5;28mstr\u001b[39m(c)\u001b[38;5;250m \u001b[39m\u001b[38;5;28;01mfor\u001b[39;00m\u001b[38;5;250m \u001b[39mc\u001b[38;5;250m \u001b[39m\u001b[38;5;129;01min\u001b[39;00m\u001b[38;5;250m \u001b[39mconstraints[:\u001b[38;5;241m-\u001b[39m\u001b[38;5;241m1\u001b[39m]])\u001b[38;5;132;01m}\u001b[39;00m\u001b[38;5;124m or\u001b[39m\u001b[38;5;124m\"\u001b[39m\n\u001b[1;32m     92\u001b[0m         \u001b[38;5;124mf\u001b[39m\u001b[38;5;124m\"\u001b[39m\u001b[38;5;124m \u001b[39m\u001b[38;5;132;01m{\u001b[39;00mconstraints[\u001b[38;5;241m-\u001b[39m\u001b[38;5;241m1\u001b[39m]\u001b[38;5;132;01m}\u001b[39;00m\u001b[38;5;124m\"\u001b[39m\n\u001b[1;32m     93\u001b[0m     )\n\u001b[0;32m---> 95\u001b[0m \u001b[38;5;28;01mraise\u001b[39;00m InvalidParameterError(\n\u001b[1;32m     96\u001b[0m     \u001b[38;5;124mf\u001b[39m\u001b[38;5;124m\"\u001b[39m\u001b[38;5;124mThe \u001b[39m\u001b[38;5;132;01m{\u001b[39;00mparam_name\u001b[38;5;132;01m!r}\u001b[39;00m\u001b[38;5;124m parameter of \u001b[39m\u001b[38;5;132;01m{\u001b[39;00mcaller_name\u001b[38;5;132;01m}\u001b[39;00m\u001b[38;5;124m must be\u001b[39m\u001b[38;5;124m\"\u001b[39m\n\u001b[1;32m     97\u001b[0m     \u001b[38;5;124mf\u001b[39m\u001b[38;5;124m\"\u001b[39m\u001b[38;5;124m \u001b[39m\u001b[38;5;132;01m{\u001b[39;00mconstraints_str\u001b[38;5;132;01m}\u001b[39;00m\u001b[38;5;124m. Got \u001b[39m\u001b[38;5;132;01m{\u001b[39;00mparam_val\u001b[38;5;132;01m!r}\u001b[39;00m\u001b[38;5;124m instead.\u001b[39m\u001b[38;5;124m\"\u001b[39m\n\u001b[1;32m     98\u001b[0m )\n",
      "\u001b[0;31mInvalidParameterError\u001b[0m: The 'feature_names' parameter of plot_tree must be an instance of 'list' or None. Got Index(['Patient_Age', 'Antimicrobial_AMP ', 'Antimicrobial_CAZ ',\n       'Antimicrobial_CIP ', 'Antimicrobial_COT ', 'Antimicrobial_CTX ',\n       'Antimicrobial_GEN ', 'Antimicrobial_IMI ', 'Antimicrobial_TET ',\n       'Bacteria_Vibrio alginolyticus', 'Bacteria_Vibrio fluvialis',\n       'Bacteria_Vibrio furnissii', 'Bacteria_Vibrio harveyi',\n       'Bacteria_Vibrio metschnikovii', 'Bacteria_Vibrio mimicus',\n       'Bacteria_Vibrio navarrensis', 'Bacteria_Vibrio other',\n       'Bacteria_Vibrio parahaemolyticus', 'Bacteria_Vibrio unknown',\n       'Bacteria_Vibrio vulnificus'],\n      dtype='object') instead."
     ]
    },
    {
     "data": {
      "text/plain": [
       "<Figure size 1000x1000 with 0 Axes>"
      ]
     },
     "metadata": {},
     "output_type": "display_data"
    }
   ],
   "source": [
    "import numpy as np\n",
    "from sklearn.experimental import enable_iterative_imputer\n",
    "from sklearn.impute import IterativeImputer\n",
    "import pandas as pd\n",
    "from sklearn import tree\n",
    "from sklearn.model_selection import train_test_split\n",
    "from sklearn.metrics import accuracy_score,confusion_matrix\n",
    "import matplotlib.pyplot as plt\n",
    "import seaborn as sns\n",
    "\n",
    "\n",
    "##########################################\n",
    "##D-Tree Hyper-parameters\n",
    "##########################################\n",
    "min_impurity_thr = 0.001               #Default min_impurity threshold for Dtree (Default is 0.001)\n",
    "ccp_thr = 0.0001                        #Default ccp_thr threshold for Dtree (Default is 0.0001)\n",
    "max_depth_thr = 30                     #Default max_depth threshold for Dtree (Default is 15)\n",
    "min_samples_leaf_thr = 5              #Default min_samples_leaf threshold for Dtree (Default is 30)\n",
    "\n",
    "\n",
    "def prepare_data(org_df):\n",
    "    #select target attributes\n",
    "    org_df = org_df.loc[:,org_df.columns.isin(['MIC_Interpretation', 'Antimicrobial', 'Patient_Age', 'Bacteria'])]\n",
    "\n",
    "    # Categorical to Numeric\n",
    "    org_df = pd.get_dummies(org_df, columns=['MIC_Interpretation', 'Antimicrobial', 'Bacteria'], dtype='int')\n",
    "\n",
    "    # Remove Unused columns\n",
    "    org_df= org_df.drop(['MIC_Interpretation_intermediate', 'MIC_Interpretation_susceptible'],axis = 1)\n",
    "\n",
    "    #remove_outliers in Patient_Age\n",
    "    values = [vl for vl in org_df['Patient_Age'] if not np.isnan(vl)]\n",
    "    q3, q1 = np.percentile(values, [75, 25])\n",
    "    fence = 1.5 * (q3 - q1)\n",
    "    upper_band = q3 + fence\n",
    "    lower_band = q1 - fence\n",
    "    org_df.loc[(org_df['Patient_Age'] < lower_band) | (org_df['Patient_Age'] > upper_band), 'Patient_Age'] = None\n",
    "\n",
    "    #impute dataset\n",
    "    imputer = IterativeImputer(max_iter=10, random_state=0)\n",
    "    imputed_dataset = imputer.fit_transform(org_df)\n",
    "    imputed_dataframe = pd.DataFrame(imputed_dataset, columns=org_df.columns)\n",
    "    return imputed_dataframe\n",
    "\n",
    "\n",
    "#Input Dateset\n",
    "org_df = pd.read_csv(\"/Users/zhangxijing/MasterNEU/INFO6105DataScienceEngineeringMethodsandTools/Dataset/DS_Dataset.csv\")\n",
    "clean_df = prepare_data(org_df)\n",
    "\n",
    "#Define features to predict Resistance label\n",
    "label_df = clean_df.loc[:,clean_df.columns == 'MIC_Interpretation_resistant']\n",
    "feat_df = clean_df.loc[:,clean_df.columns != 'MIC_Interpretation_resistant']\n",
    "\n",
    "#Seperate test and train data\n",
    "train_feat,test_feat,train_label,test_label = train_test_split(feat_df,label_df,test_size=0.25)\n",
    "\n",
    "#Create a model using Hyper-parameters\n",
    "treemodel= tree.DecisionTreeClassifier(criterion=\"gini\",\n",
    "                                       min_impurity_decrease=min_impurity_thr,\n",
    "                                       max_depth=max_depth_thr,\n",
    "                                       min_samples_leaf=min_samples_leaf_thr,\n",
    "                                       ccp_alpha=ccp_thr)\n",
    "#Train the model\n",
    "treemodel.fit(train_feat, train_label)\n",
    "\n",
    "#pruning specification\n",
    "path = treemodel.cost_complexity_pruning_path(train_feat, train_label)\n",
    "ccp_alphas =  path['ccp_alphas']\n",
    "print(ccp_alphas)\n",
    "\n",
    "#Visualize the model\n",
    "plt.figure(figsize=(10,10))\n",
    "tree.plot_tree(treemodel,feature_names=train_feat.columns.tolist(),class_names=['Not Resistant','Resistant'],filled=True)\n",
    "plt.show()\n",
    "\n",
    "train_pred_label = treemodel.predict(train_feat)\n",
    "training_accuracy=accuracy_score(train_pred_label,train_label)\n",
    "print ('training accuracy =',training_accuracy )\n",
    "\n",
    "test_pred_label = treemodel.predict(test_feat)\n",
    "testing_accuracy=accuracy_score(test_pred_label,test_label)\n",
    "print ('testing accuracy =',testing_accuracy )\n",
    "\n",
    "#Calculate confusion matrix\n",
    "cf=confusion_matrix(test_pred_label,test_label)\n",
    "print(cf)\n",
    "\n",
    "#Visualize confusion matrix\n",
    "sns.heatmap(cf,annot=True,yticklabels=['Not Resistant','Resistant']\n",
    "               ,xticklabels=['Not Resistant','Resistant'],cmap='Blues', fmt='g')\n",
    "plt.tight_layout()\n",
    "plt.show()\n",
    "\n",
    "#Calculate sensitivity and specificity\n",
    "sensitivity = cf[1, 1] / (cf[1, 0] + cf[1, 1])\n",
    "specificity = cf[0, 0] / (cf[0, 0] + cf[0, 1])\n",
    "print ('sensitivity=',sensitivity, 'specificity=',specificity )"
   ]
  },
  {
   "cell_type": "code",
   "execution_count": null,
   "id": "9ef7ec07",
   "metadata": {},
   "outputs": [],
   "source": []
  }
 ],
 "metadata": {
  "kernelspec": {
   "display_name": "Python 3 (ipykernel)",
   "language": "python",
   "name": "python3"
  },
  "language_info": {
   "codemirror_mode": {
    "name": "ipython",
    "version": 3
   },
   "file_extension": ".py",
   "mimetype": "text/x-python",
   "name": "python",
   "nbconvert_exporter": "python",
   "pygments_lexer": "ipython3",
   "version": "3.11.4"
  }
 },
 "nbformat": 4,
 "nbformat_minor": 5
}
