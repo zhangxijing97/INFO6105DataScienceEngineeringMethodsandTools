{
 "cells": [
  {
   "cell_type": "code",
   "execution_count": 3,
   "id": "5e1a9b32",
   "metadata": {},
   "outputs": [
    {
     "name": "stdout",
     "output_type": "stream",
     "text": [
      "Final Cluster Assignments: [1. 1. 2. 2. 1.]\n",
      "Final Cluster Center 1: 20.0\n",
      "Final Cluster Center 2: 29.0\n"
     ]
    }
   ],
   "source": [
    "import numpy as np\n",
    "from sklearn.experimental import enable_iterative_imputer\n",
    "from sklearn.impute import IterativeImputer\n",
    "import pandas as pd\n",
    "from sklearn.model_selection import train_test_split\n",
    "import matplotlib.pyplot as plt\n",
    "from sklearn.cluster import KMeans\n",
    "from sklearn_extra.cluster import KMedoids\n",
    "from kmodes.kmodes import KModes\n",
    "from pyclustering.cluster.kmedians import kmedians\n",
    "from scipy.cluster.hierarchy import linkage, dendrogram\n",
    "from sklearn.cluster import AgglomerativeClustering\n",
    "from sklearn import preprocessing\n",
    "\n",
    "import numpy as np\n",
    "\n",
    "# Given BMI values for each patient\n",
    "bmi_values = np.array([22, 21, 28, 30, 17])\n",
    "\n",
    "# Initialize cluster centers (given initial centers)\n",
    "center_1 = 28\n",
    "center_2 = 30\n",
    "\n",
    "# Define a function to perform K-means clustering\n",
    "def k_means_clustering(data, center_1, center_2, max_iterations=100):\n",
    "    # Initialize cluster assignments\n",
    "    cluster_assignments = np.zeros(len(data))\n",
    "    \n",
    "    for _ in range(max_iterations):\n",
    "        # Assign each data point to the nearest cluster center\n",
    "        for i in range(len(data)):\n",
    "            # Calculate Euclidean distances to each center\n",
    "            distance_to_center_1 = abs(data[i] - center_1)\n",
    "            distance_to_center_2 = abs(data[i] - center_2)\n",
    "            \n",
    "            # Determine the closest cluster center\n",
    "            if distance_to_center_1 <= distance_to_center_2:\n",
    "                cluster_assignments[i] = 1  # Assign to Cluster 1\n",
    "            else:\n",
    "                cluster_assignments[i] = 2  # Assign to Cluster 2\n",
    "        \n",
    "        # Update cluster centers based on the mean of assigned data points\n",
    "        cluster_1_indices = np.where(cluster_assignments == 1)[0]\n",
    "        cluster_2_indices = np.where(cluster_assignments == 2)[0]\n",
    "        \n",
    "        # Calculate new cluster centers\n",
    "        new_center_1 = np.mean(data[cluster_1_indices])\n",
    "        new_center_2 = np.mean(data[cluster_2_indices])\n",
    "        \n",
    "        # Check for convergence\n",
    "        if new_center_1 == center_1 and new_center_2 == center_2:\n",
    "            break\n",
    "        \n",
    "        # Update centers for the next iteration\n",
    "        center_1 = new_center_1\n",
    "        center_2 = new_center_2\n",
    "    \n",
    "    return cluster_assignments, center_1, center_2\n",
    "\n",
    "# Perform K-means clustering\n",
    "cluster_assignments, final_center_1, final_center_2 = k_means_clustering(bmi_values, center_1, center_2)\n",
    "\n",
    "# Print final cluster assignments and centers\n",
    "print(\"Final Cluster Assignments:\", cluster_assignments)\n",
    "print(\"Final Cluster Center 1:\", final_center_1)\n",
    "print(\"Final Cluster Center 2:\", final_center_2)"
   ]
  },
  {
   "cell_type": "code",
   "execution_count": null,
   "id": "176c0df5",
   "metadata": {},
   "outputs": [],
   "source": []
  }
 ],
 "metadata": {
  "kernelspec": {
   "display_name": "Python 3 (ipykernel)",
   "language": "python",
   "name": "python3"
  },
  "language_info": {
   "codemirror_mode": {
    "name": "ipython",
    "version": 3
   },
   "file_extension": ".py",
   "mimetype": "text/x-python",
   "name": "python",
   "nbconvert_exporter": "python",
   "pygments_lexer": "ipython3",
   "version": "3.11.4"
  }
 },
 "nbformat": 4,
 "nbformat_minor": 5
}
