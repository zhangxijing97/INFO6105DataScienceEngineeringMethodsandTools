{
 "cells": [
  {
   "cell_type": "code",
   "execution_count": 8,
   "id": "cbb7d843",
   "metadata": {},
   "outputs": [
    {
     "name": "stdout",
     "output_type": "stream",
     "text": [
      "RF 3 Scores: [0.7012987  0.66883117 0.71428571 0.79084967 0.67320261], Mean: 0.7096935743994568\n",
      "RF 50 Scores: [0.72727273 0.68831169 0.78571429 0.81045752 0.73856209], Mean: 0.7500636618283677\n",
      "Adaboost 3 Scores: [0.69480519 0.7012987  0.74675325 0.79738562 0.75816993], Mean: 0.7396825396825397\n",
      "Adaboost 50 Scores: [0.74025974 0.66883117 0.76623377 0.77777778 0.77124183], Mean: 0.7448688566335625\n"
     ]
    }
   ],
   "source": [
    "import pandas as pd\n",
    "from sklearn.model_selection import train_test_split, KFold, cross_val_score\n",
    "from sklearn.ensemble import RandomForestClassifier, AdaBoostClassifier\n",
    "from sklearn.metrics import accuracy_score\n",
    "\n",
    "# Load Dataset\n",
    "org_df = pd.read_csv(\"/Users/zhangxijing/MasterNEU/INFO6105DataScienceEngineeringMethodsandTools/Dataset/diabetes.csv\")\n",
    "\n",
    "# Define features and label\n",
    "label_df = org_df['Outcome']\n",
    "feat_df = org_df.drop('Outcome', axis=1)\n",
    "\n",
    "# Initialize models with different estimators\n",
    "rf_3 = RandomForestClassifier(n_estimators=3)\n",
    "rf_50 = RandomForestClassifier(n_estimators=50)\n",
    "ad_3 = AdaBoostClassifier(n_estimators=3)\n",
    "ad_50 = AdaBoostClassifier(n_estimators=50)\n",
    "\n",
    "# Setup K-Fold\n",
    "k_folds = KFold(n_splits=5)\n",
    "\n",
    "# Calculate cross-validation scores\n",
    "scores_rf_3 = cross_val_score(rf_3, feat_df, label_df, cv=k_folds)\n",
    "scores_rf_50 = cross_val_score(rf_50, feat_df, label_df, cv=k_folds)\n",
    "scores_ad_3 = cross_val_score(ad_3, feat_df, label_df, cv=k_folds)\n",
    "scores_ad_50 = cross_val_score(ad_50, feat_df, label_df, cv=k_folds)\n",
    "\n",
    "# Print scores and their means\n",
    "print(f\"RF 3 Scores: {scores_rf_3}, Mean: {scores_rf_3.mean()}\")\n",
    "print(f\"RF 50 Scores: {scores_rf_50}, Mean: {scores_rf_50.mean()}\")\n",
    "print(f\"Adaboost 3 Scores: {scores_ad_3}, Mean: {scores_ad_3.mean()}\")\n",
    "print(f\"Adaboost 50 Scores: {scores_ad_50}, Mean: {scores_ad_50.mean()}\")"
   ]
  },
  {
   "cell_type": "code",
   "execution_count": null,
   "id": "a5ff5d03",
   "metadata": {},
   "outputs": [],
   "source": []
  }
 ],
 "metadata": {
  "kernelspec": {
   "display_name": "Python 3 (ipykernel)",
   "language": "python",
   "name": "python3"
  },
  "language_info": {
   "codemirror_mode": {
    "name": "ipython",
    "version": 3
   },
   "file_extension": ".py",
   "mimetype": "text/x-python",
   "name": "python",
   "nbconvert_exporter": "python",
   "pygments_lexer": "ipython3",
   "version": "3.11.4"
  }
 },
 "nbformat": 4,
 "nbformat_minor": 5
}
