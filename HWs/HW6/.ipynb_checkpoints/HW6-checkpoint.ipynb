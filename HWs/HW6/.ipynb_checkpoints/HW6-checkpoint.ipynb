{
 "cells": [
  {
   "cell_type": "code",
   "execution_count": 7,
   "id": "cbb7d843",
   "metadata": {},
   "outputs": [
    {
     "name": "stdout",
     "output_type": "stream",
     "text": [
      "RF 3 Scores: [0.75974026 0.61038961 0.73376623 0.73202614 0.76470588], Mean: 0.7201256260079789\n",
      "RF 50 Scores: [0.75324675 0.69480519 0.78571429 0.81699346 0.74509804], Mean: 0.7591715474068416\n",
      "Adaboost 3 Scores: [0.69480519 0.7012987  0.74675325 0.79738562 0.75816993], Mean: 0.7396825396825397\n",
      "Adaboost 50 Scores: [0.74025974 0.66883117 0.76623377 0.77777778 0.77124183], Mean: 0.7448688566335625\n"
     ]
    },
    {
     "ename": "AttributeError",
     "evalue": "'RandomForestClassifier' object has no attribute 'estimators_'",
     "output_type": "error",
     "traceback": [
      "\u001b[0;31m---------------------------------------------------------------------------\u001b[0m",
      "\u001b[0;31mAttributeError\u001b[0m                            Traceback (most recent call last)",
      "Cell \u001b[0;32mIn[7], line 41\u001b[0m\n\u001b[1;32m     39\u001b[0m \u001b[38;5;66;03m# visualize Trees\u001b[39;00m\n\u001b[1;32m     40\u001b[0m \u001b[38;5;28;01mfor\u001b[39;00m i \u001b[38;5;129;01min\u001b[39;00m \u001b[38;5;28mrange\u001b[39m(\u001b[38;5;241m3\u001b[39m):\n\u001b[0;32m---> 41\u001b[0m     tree \u001b[38;5;241m=\u001b[39m rf_50\u001b[38;5;241m.\u001b[39mestimators_[i]\n\u001b[1;32m     42\u001b[0m     dot_data \u001b[38;5;241m=\u001b[39m export_graphviz(tree,\n\u001b[1;32m     43\u001b[0m                                feature_names\u001b[38;5;241m=\u001b[39mfeature_names,\n\u001b[1;32m     44\u001b[0m                                filled\u001b[38;5;241m=\u001b[39m\u001b[38;5;28;01mTrue\u001b[39;00m,\n\u001b[0;32m   (...)\u001b[0m\n\u001b[1;32m     47\u001b[0m                                class_names\u001b[38;5;241m=\u001b[39m[\u001b[38;5;124m'\u001b[39m\u001b[38;5;124mYes\u001b[39m\u001b[38;5;124m'\u001b[39m,\u001b[38;5;124m'\u001b[39m\u001b[38;5;124mNo\u001b[39m\u001b[38;5;124m'\u001b[39m],\n\u001b[1;32m     48\u001b[0m                                proportion\u001b[38;5;241m=\u001b[39m\u001b[38;5;28;01mTrue\u001b[39;00m)\n\u001b[1;32m     49\u001b[0m     graph \u001b[38;5;241m=\u001b[39m graphviz\u001b[38;5;241m.\u001b[39mSource(dot_data)\n",
      "\u001b[0;31mAttributeError\u001b[0m: 'RandomForestClassifier' object has no attribute 'estimators_'"
     ]
    }
   ],
   "source": [
    "import pandas as pd\n",
    "from sklearn.model_selection import train_test_split, KFold, cross_val_score\n",
    "from sklearn.ensemble import RandomForestClassifier, AdaBoostClassifier\n",
    "from sklearn.metrics import accuracy_score\n",
    "\n",
    "# Load Dataset\n",
    "org_df = pd.read_csv(\"/Users/zhangxijing/MasterNEU/INFO6105DataScienceEngineeringMethodsandTools/Dataset/diabetes.csv\")\n",
    "\n",
    "# Define features and label\n",
    "label_df = org_df['Outcome']\n",
    "feat_df = org_df.drop('Outcome', axis=1)\n",
    "\n",
    "# Initialize models with different estimators\n",
    "rf_3 = RandomForestClassifier(n_estimators=3)\n",
    "rf_50 = RandomForestClassifier(n_estimators=50)\n",
    "ad_3 = AdaBoostClassifier(n_estimators=3)\n",
    "ad_50 = AdaBoostClassifier(n_estimators=50)\n",
    "\n",
    "# Setup K-Fold\n",
    "k_folds = KFold(n_splits=5)\n",
    "\n",
    "# Calculate cross-validation scores\n",
    "scores_rf_3 = cross_val_score(rf_3, feat_df, label_df, cv=k_folds)\n",
    "scores_rf_50 = cross_val_score(rf_50, feat_df, label_df, cv=k_folds)\n",
    "scores_ad_3 = cross_val_score(ad_3, feat_df, label_df, cv=k_folds)\n",
    "scores_ad_50 = cross_val_score(ad_50, feat_df, label_df, cv=k_folds)\n",
    "\n",
    "# Print scores and their means\n",
    "print(f\"RF 3 Scores: {scores_rf_3}, Mean: {scores_rf_3.mean()}\")\n",
    "print(f\"RF 50 Scores: {scores_rf_50}, Mean: {scores_rf_50.mean()}\")\n",
    "print(f\"Adaboost 3 Scores: {scores_ad_3}, Mean: {scores_ad_3.mean()}\")\n",
    "print(f\"Adaboost 50 Scores: {scores_ad_50}, Mean: {scores_ad_50.mean()}\")"
   ]
  },
  {
   "cell_type": "code",
   "execution_count": null,
   "id": "a5ff5d03",
   "metadata": {},
   "outputs": [],
   "source": []
  }
 ],
 "metadata": {
  "kernelspec": {
   "display_name": "Python 3 (ipykernel)",
   "language": "python",
   "name": "python3"
  },
  "language_info": {
   "codemirror_mode": {
    "name": "ipython",
    "version": 3
   },
   "file_extension": ".py",
   "mimetype": "text/x-python",
   "name": "python",
   "nbconvert_exporter": "python",
   "pygments_lexer": "ipython3",
   "version": "3.11.4"
  }
 },
 "nbformat": 4,
 "nbformat_minor": 5
}
