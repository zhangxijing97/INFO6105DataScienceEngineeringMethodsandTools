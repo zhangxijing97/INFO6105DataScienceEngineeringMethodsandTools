{
 "cells": [
  {
   "cell_type": "code",
   "execution_count": 7,
   "id": "7c1312a7",
   "metadata": {},
   "outputs": [],
   "source": [
    "import numpy as np\n",
    "import pandas as pd\n",
    "from sklearn.experimental import enable_iterative_imputer\n",
    "from sklearn.impute import IterativeImputer\n",
    "\n",
    "from sklearn.preprocessing import LabelEncoder"
   ]
  },
  {
   "cell_type": "code",
   "execution_count": 8,
   "id": "390cb96f",
   "metadata": {},
   "outputs": [
    {
     "name": "stdout",
     "output_type": "stream",
     "text": [
      "       Isolate_No  Patient_Age                 Bacteria Antimicrobial  \\\n",
      "0      2010V-1004         21.0     Vibrio alginolyticus          AMP    \n",
      "1      2010V-1004         21.0     Vibrio alginolyticus          CIP    \n",
      "2      2010V-1004         21.0     Vibrio alginolyticus          COT    \n",
      "3      2010V-1004         21.0     Vibrio alginolyticus          TET    \n",
      "4      2010V-1005         22.0             Vibrio other          AMP    \n",
      "...           ...          ...                      ...           ...   \n",
      "2326  2013AW-0105         30.0  Vibrio parahaemolyticus          CIP    \n",
      "2327  2013AW-0105         30.0  Vibrio parahaemolyticus          COT    \n",
      "2328  2013AW-0105         30.0  Vibrio parahaemolyticus          CTX    \n",
      "2329  2013AW-0105         30.0  Vibrio parahaemolyticus          GEN    \n",
      "2330  2013AW-0105         30.0  Vibrio parahaemolyticus          IMI    \n",
      "\n",
      "          MIC MIC_Interpretation  \n",
      "0     128.000          resistant  \n",
      "1       0.125        susceptible  \n",
      "2       0.064        susceptible  \n",
      "3       1.000        susceptible  \n",
      "4       3.000                NaN  \n",
      "...       ...                ...  \n",
      "2326    0.190        susceptible  \n",
      "2327    0.190        susceptible  \n",
      "2328    0.190                NaN  \n",
      "2329    0.750        susceptible  \n",
      "2330    0.190        susceptible  \n",
      "\n",
      "[2331 rows x 6 columns]\n"
     ]
    }
   ],
   "source": [
    "df = pd.read_csv(\"/Users/zhangxijing/MasterNEU/INFO6105DataScienceEngineeringMethodsandTools/Dataset/DS_Dataset.csv\")\n",
    "df_copy = df.copy()\n",
    "print(df_copy)"
   ]
  },
  {
   "cell_type": "code",
   "execution_count": 9,
   "id": "95535d1e",
   "metadata": {},
   "outputs": [
    {
     "name": "stdout",
     "output_type": "stream",
     "text": [
      "      Patient_Age                 Bacteria Antimicrobial      MIC  \\\n",
      "0            21.0     Vibrio alginolyticus          AMP   128.000   \n",
      "1            21.0     Vibrio alginolyticus          CIP     0.125   \n",
      "2            21.0     Vibrio alginolyticus          COT     0.064   \n",
      "3            21.0     Vibrio alginolyticus          TET     1.000   \n",
      "4            22.0             Vibrio other          AMP     3.000   \n",
      "...           ...                      ...           ...      ...   \n",
      "2326         30.0  Vibrio parahaemolyticus          CIP     0.190   \n",
      "2327         30.0  Vibrio parahaemolyticus          COT     0.190   \n",
      "2328         30.0  Vibrio parahaemolyticus          CTX     0.190   \n",
      "2329         30.0  Vibrio parahaemolyticus          GEN     0.750   \n",
      "2330         30.0  Vibrio parahaemolyticus          IMI     0.190   \n",
      "\n",
      "     MIC_Interpretation  \n",
      "0             resistant  \n",
      "1           susceptible  \n",
      "2           susceptible  \n",
      "3           susceptible  \n",
      "4                   NaN  \n",
      "...                 ...  \n",
      "2326        susceptible  \n",
      "2327        susceptible  \n",
      "2328                NaN  \n",
      "2329        susceptible  \n",
      "2330        susceptible  \n",
      "\n",
      "[1722 rows x 5 columns]\n"
     ]
    }
   ],
   "source": [
    "# delete first column\n",
    "df_copy = df_copy.drop(df_copy.columns[0], axis=1)\n",
    "\n",
    "#remove duplicates\n",
    "df_copy = df_copy.drop_duplicates()\n",
    "print(df_copy)"
   ]
  },
  {
   "cell_type": "code",
   "execution_count": 10,
   "id": "d658c95e",
   "metadata": {},
   "outputs": [
    {
     "name": "stdout",
     "output_type": "stream",
     "text": [
      "      Patient_Age  Bacteria  Antimicrobial      MIC MIC_Interpretation\n",
      "0            21.0         0              0  128.000                  1\n",
      "1            21.0         0              2    0.125                  2\n",
      "2            21.0         0              3    0.064                  2\n",
      "3            21.0         0              7    1.000                  2\n",
      "4            22.0         7              0    3.000                NaN\n",
      "...           ...       ...            ...      ...                ...\n",
      "2326         30.0         8              2    0.190                  2\n",
      "2327         30.0         8              3    0.190                  2\n",
      "2328         30.0         8              4    0.190                NaN\n",
      "2329         30.0         8              5    0.750                  2\n",
      "2330         30.0         8              6    0.190                  2\n",
      "\n",
      "[1722 rows x 5 columns]\n"
     ]
    }
   ],
   "source": [
    "# convert columns to integers\n",
    "dataframe = df_copy.copy()\n",
    "dataframe['Bacteria'] = LabelEncoder().fit_transform(dataframe['Bacteria'])\n",
    "dataframe['Antimicrobial'] = LabelEncoder().fit_transform(dataframe['Antimicrobial'])\n",
    "dataframe['MIC_Interpretation'] = LabelEncoder().fit_transform(dataframe['MIC_Interpretation'])\n",
    "\n",
    "dataframe.loc[dataframe['MIC_Interpretation'] == 3, 'MIC_Interpretation'] = \"NaN\"\n",
    "\n",
    "# Print the DataFrame\n",
    "print(dataframe)\n",
    "dataframe.to_csv(\"HW1_1_Result222.csv\")"
   ]
  },
  {
   "cell_type": "code",
   "execution_count": 710,
   "id": "da3bb5af",
   "metadata": {},
   "outputs": [
    {
     "name": "stdout",
     "output_type": "stream",
     "text": [
      "      Patient_Age  Bacteria  Antimicrobial      MIC  MIC_Interpretation\n",
      "0            21.0       0.0            0.0  128.000                 1.0\n",
      "1            21.0       0.0            2.0    0.125                 2.0\n",
      "2            21.0       0.0            3.0    0.064                 2.0\n",
      "3            21.0       0.0            7.0    1.000                 2.0\n",
      "4            22.0       7.0            0.0    3.000                 2.0\n",
      "...           ...       ...            ...      ...                 ...\n",
      "1717         30.0       8.0            2.0    0.190                 2.0\n",
      "1718         30.0       8.0            3.0    0.190                 2.0\n",
      "1719         30.0       8.0            4.0    0.190                 2.0\n",
      "1720         30.0       8.0            5.0    0.750                 2.0\n",
      "1721         30.0       8.0            6.0    0.190                 2.0\n",
      "\n",
      "[1722 rows x 5 columns]\n"
     ]
    }
   ],
   "source": [
    "##MICE\n",
    "imputer = IterativeImputer(max_iter=10, random_state=0)\n",
    "imputed_dataset = imputer.fit_transform(dataframe)\n",
    "imputed_dataframe = pd.DataFrame(imputed_dataset, columns=dataframe.columns)\n",
    "\n",
    "# find the closest integer\n",
    "imputed_dataframe['MIC_Interpretation'] = imputed_dataframe['MIC_Interpretation'].round()\n",
    "print(imputed_dataframe)"
   ]
  },
  {
   "cell_type": "code",
   "execution_count": 711,
   "id": "9427900a",
   "metadata": {
    "scrolled": true
   },
   "outputs": [
    {
     "name": "stdout",
     "output_type": "stream",
     "text": [
      "      Patient_Age  Bacteria  Antimicrobial       MIC  MIC_Interpretation  \\\n",
      "0            21.0       0.0            0.0  128.5000                 1.0   \n",
      "1            21.0       0.0            2.0    0.0630                 2.0   \n",
      "2            21.0       0.0            3.0    0.0630                 2.0   \n",
      "3            21.0       0.0            7.0    0.5625                 2.0   \n",
      "4            22.0       7.0            0.0  128.5000                 2.0   \n",
      "...           ...       ...            ...       ...                 ...   \n",
      "1717         30.0       8.0            2.0    0.5625                 2.0   \n",
      "1718         30.0       8.0            3.0    0.5625                 2.0   \n",
      "1719         30.0       8.0            4.0    0.5625                 2.0   \n",
      "1720         30.0       8.0            5.0    0.5625                 2.0   \n",
      "1721         30.0       8.0            6.0    0.5625                 2.0   \n",
      "\n",
      "             MIC_bin  \n",
      "0       (1.0, 256.0]  \n",
      "1     (0.001, 0.125]  \n",
      "2     (0.001, 0.125]  \n",
      "3       (0.125, 1.0]  \n",
      "4       (1.0, 256.0]  \n",
      "...              ...  \n",
      "1717    (0.125, 1.0]  \n",
      "1718    (0.125, 1.0]  \n",
      "1719    (0.125, 1.0]  \n",
      "1720    (0.125, 1.0]  \n",
      "1721    (0.125, 1.0]  \n",
      "\n",
      "[1722 rows x 6 columns]\n"
     ]
    }
   ],
   "source": [
    "##Binning\n",
    "imputed_dataframe['MIC_bin'] = pd.qcut(imputed_dataframe['MIC'], q=3)\n",
    "imputed_dataframe['MIC'] = pd.Series ([interval.mid for interval in imputed_dataframe['MIC_bin']])\n",
    "\n",
    "print(imputed_dataframe)"
   ]
  },
  {
   "cell_type": "code",
   "execution_count": 712,
   "id": "472a59cb",
   "metadata": {},
   "outputs": [
    {
     "name": "stdout",
     "output_type": "stream",
     "text": [
      "q1= 0.063  q3= 128.5  IQR= 128.437  upper= 321.1555 lower= -192.59250000000003\n",
      "Outliers= []\n",
      "q1= 26.0  q3= 63.0  IQR= 37.0  upper= 118.5 lower= -29.5\n",
      "Outliers= [145.0, 145.0, 145.0, 145.0, -34.0, -34.0, -34.0, -34.0, 154.0, 733.0, -45.0, -45.0, -45.0, -45.0]\n",
      "DataFrame without outliers:\n",
      "      Patient_Age  Bacteria  Antimicrobial       MIC  MIC_Interpretation  \\\n",
      "0            21.0       0.0            0.0  128.5000                 1.0   \n",
      "1            21.0       0.0            2.0    0.0630                 2.0   \n",
      "2            21.0       0.0            3.0    0.0630                 2.0   \n",
      "3            21.0       0.0            7.0    0.5625                 2.0   \n",
      "4            22.0       7.0            0.0  128.5000                 2.0   \n",
      "...           ...       ...            ...       ...                 ...   \n",
      "1717         30.0       8.0            2.0    0.5625                 2.0   \n",
      "1718         30.0       8.0            3.0    0.5625                 2.0   \n",
      "1719         30.0       8.0            4.0    0.5625                 2.0   \n",
      "1720         30.0       8.0            5.0    0.5625                 2.0   \n",
      "1721         30.0       8.0            6.0    0.5625                 2.0   \n",
      "\n",
      "             MIC_bin  \n",
      "0       (1.0, 256.0]  \n",
      "1     (0.001, 0.125]  \n",
      "2     (0.001, 0.125]  \n",
      "3       (0.125, 1.0]  \n",
      "4       (1.0, 256.0]  \n",
      "...              ...  \n",
      "1717    (0.125, 1.0]  \n",
      "1718    (0.125, 1.0]  \n",
      "1719    (0.125, 1.0]  \n",
      "1720    (0.125, 1.0]  \n",
      "1721    (0.125, 1.0]  \n",
      "\n",
      "[1708 rows x 6 columns]\n",
      "df_copy without outliers:\n",
      "      Patient_Age                 Bacteria Antimicrobial      MIC  \\\n",
      "0            21.0     Vibrio alginolyticus          AMP   128.000   \n",
      "1            21.0     Vibrio alginolyticus          CIP     0.125   \n",
      "2            21.0     Vibrio alginolyticus          COT     0.064   \n",
      "3            21.0     Vibrio alginolyticus          TET     1.000   \n",
      "4            22.0             Vibrio other          AMP     3.000   \n",
      "...           ...                      ...           ...      ...   \n",
      "2326         30.0  Vibrio parahaemolyticus          CIP     0.190   \n",
      "2327         30.0  Vibrio parahaemolyticus          COT     0.190   \n",
      "2328         30.0  Vibrio parahaemolyticus          CTX     0.190   \n",
      "2329         30.0  Vibrio parahaemolyticus          GEN     0.750   \n",
      "2330         30.0  Vibrio parahaemolyticus          IMI     0.190   \n",
      "\n",
      "     MIC_Interpretation  \n",
      "0             resistant  \n",
      "1           susceptible  \n",
      "2           susceptible  \n",
      "3           susceptible  \n",
      "4                   NaN  \n",
      "...                 ...  \n",
      "2326        susceptible  \n",
      "2327        susceptible  \n",
      "2328                NaN  \n",
      "2329        susceptible  \n",
      "2330        susceptible  \n",
      "\n",
      "[1708 rows x 5 columns]\n"
     ]
    }
   ],
   "source": [
    "##Detect Outliers\n",
    "q3, q1 = np.percentile(imputed_dataframe['MIC'], [75 ,25])\n",
    "fence = 1.5 * (q3 - q1)\n",
    "upper_band = q3 + fence\n",
    "lower_band = q1 - fence\n",
    "print( 'q1=',q1,' q3=', q3, ' IQR=', q3-q1, ' upper=', upper_band, 'lower=',lower_band)\n",
    "outliers = [val for val in imputed_dataframe['MIC'] if val < lower_band or val > upper_band]\n",
    "print('Outliers=', outliers)\n",
    "\n",
    "\n",
    "q3, q1 = np.percentile(imputed_dataframe['Patient_Age'], [75 ,25])\n",
    "fence = 1.5 * (q3 - q1)\n",
    "upper_band = q3 + fence\n",
    "lower_band = q1 - fence\n",
    "print( 'q1=',q1,' q3=', q3, ' IQR=', q3-q1, ' upper=', upper_band, 'lower=',lower_band)\n",
    "outliers = [val for val in imputed_dataframe['Patient_Age'] if val < lower_band or val > upper_band]\n",
    "print('Outliers=', outliers)\n",
    "\n",
    "# Create a mask to identify rows with outliers\n",
    "outliers_mask = (imputed_dataframe['Patient_Age'] < lower_band) | (imputed_dataframe['Patient_Age'] > upper_band)\n",
    "\n",
    "# Remove rows with outliers\n",
    "filtered_dataframe = imputed_dataframe[~outliers_mask]\n",
    "\n",
    "print('DataFrame without outliers:')\n",
    "print(filtered_dataframe)\n",
    "\n",
    "\n",
    "# Create a mask to identify rows with outliers in df_copy\n",
    "outliers_mask_copy = (df_copy['Patient_Age'] < lower_band) | (df_copy['Patient_Age'] > upper_band)\n",
    "\n",
    "# Remove rows with outliers from df_copy\n",
    "filtered_df_copy = df_copy[~outliers_mask_copy]\n",
    "\n",
    "# Print or handle the DataFrame without outliers in df_copy\n",
    "print('df_copy without outliers:')\n",
    "print(filtered_df_copy)"
   ]
  },
  {
   "cell_type": "code",
   "execution_count": 713,
   "id": "18a82c3b",
   "metadata": {},
   "outputs": [
    {
     "name": "stdout",
     "output_type": "stream",
     "text": [
      "      Patient_Age  Bacteria  Antimicrobial       MIC  MIC_Interpretation  \\\n",
      "0       -1.057835       0.0            0.0  1.445193                 1.0   \n",
      "1       -1.057835       0.0            2.0 -0.696166                 2.0   \n",
      "2       -1.057835       0.0            3.0 -0.696166                 2.0   \n",
      "3       -1.057835       0.0            7.0 -0.687838                 2.0   \n",
      "4       -1.012737       7.0            0.0  1.445193                 2.0   \n",
      "...           ...       ...            ...       ...                 ...   \n",
      "1717    -0.651953       8.0            2.0 -0.687838                 2.0   \n",
      "1718    -0.651953       8.0            3.0 -0.687838                 2.0   \n",
      "1719    -0.651953       8.0            4.0 -0.687838                 2.0   \n",
      "1720    -0.651953       8.0            5.0 -0.687838                 2.0   \n",
      "1721    -0.651953       8.0            6.0 -0.687838                 2.0   \n",
      "\n",
      "             MIC_bin  \n",
      "0       (1.0, 256.0]  \n",
      "1     (0.001, 0.125]  \n",
      "2     (0.001, 0.125]  \n",
      "3       (0.125, 1.0]  \n",
      "4       (1.0, 256.0]  \n",
      "...              ...  \n",
      "1717    (0.125, 1.0]  \n",
      "1718    (0.125, 1.0]  \n",
      "1719    (0.125, 1.0]  \n",
      "1720    (0.125, 1.0]  \n",
      "1721    (0.125, 1.0]  \n",
      "\n",
      "[1708 rows x 6 columns]\n"
     ]
    },
    {
     "name": "stderr",
     "output_type": "stream",
     "text": [
      "/var/folders/4x/93t8x08s0s15_93t7b53wtzr0000gn/T/ipykernel_10121/1865993892.py:11: SettingWithCopyWarning: \n",
      "A value is trying to be set on a copy of a slice from a DataFrame.\n",
      "Try using .loc[row_indexer,col_indexer] = value instead\n",
      "\n",
      "See the caveats in the documentation: https://pandas.pydata.org/pandas-docs/stable/user_guide/indexing.html#returning-a-view-versus-a-copy\n",
      "  filtered_dataframe.loc[:, numeric_columns] = scaler.fit_transform(filtered_dataframe.loc[:, numeric_columns])\n"
     ]
    }
   ],
   "source": [
    "## Normalize\n",
    "from sklearn.preprocessing import StandardScaler\n",
    "\n",
    "# Extract numeric columns (assuming 'MIC' and 'Patient_Age' are numeric columns)\n",
    "numeric_columns = ['MIC', 'Patient_Age']\n",
    "\n",
    "# Initialize the StandardScaler\n",
    "scaler = StandardScaler()\n",
    "\n",
    "# Fit and transform the selected columns using .loc\n",
    "filtered_dataframe.loc[:, numeric_columns] = scaler.fit_transform(filtered_dataframe.loc[:, numeric_columns])\n",
    "\n",
    "print(filtered_dataframe)"
   ]
  },
  {
   "cell_type": "code",
   "execution_count": 714,
   "id": "af175f6c",
   "metadata": {},
   "outputs": [
    {
     "name": "stdout",
     "output_type": "stream",
     "text": [
      "\n",
      "      Patient_Age                 Bacteria Antimicrobial       MIC  \\\n",
      "1       -1.057835     Vibrio alginolyticus          AMP   1.445193   \n",
      "2       -1.057835     Vibrio alginolyticus          CIP  -0.696166   \n",
      "3       -1.057835     Vibrio alginolyticus          COT  -0.696166   \n",
      "4       -1.057835     Vibrio alginolyticus          TET  -0.687838   \n",
      "5       -1.012737             Vibrio other          AMP   1.445193   \n",
      "...           ...                      ...           ...       ...   \n",
      "1704    -0.651953  Vibrio parahaemolyticus          CIP  -0.687838   \n",
      "1705    -0.651953  Vibrio parahaemolyticus          COT  -0.687838   \n",
      "1706    -0.651953  Vibrio parahaemolyticus          CTX  -0.687838   \n",
      "1707    -0.651953  Vibrio parahaemolyticus          GEN  -0.687838   \n",
      "1708    -0.651953  Vibrio parahaemolyticus          IMI  -0.687838   \n",
      "\n",
      "      MIC_Interpretation  \n",
      "1                    1.0  \n",
      "2                    2.0  \n",
      "3                    2.0  \n",
      "4                    2.0  \n",
      "5                    2.0  \n",
      "...                  ...  \n",
      "1704                 2.0  \n",
      "1705                 2.0  \n",
      "1706                 2.0  \n",
      "1707                 2.0  \n",
      "1708                 2.0  \n",
      "\n",
      "[1708 rows x 5 columns]\n",
      "(1708, 5)\n"
     ]
    },
    {
     "name": "stderr",
     "output_type": "stream",
     "text": [
      "/var/folders/4x/93t8x08s0s15_93t7b53wtzr0000gn/T/ipykernel_10121/2944302322.py:11: SettingWithCopyWarning: \n",
      "A value is trying to be set on a copy of a slice from a DataFrame.\n",
      "Try using .loc[row_indexer,col_indexer] = value instead\n",
      "\n",
      "See the caveats in the documentation: https://pandas.pydata.org/pandas-docs/stable/user_guide/indexing.html#returning-a-view-versus-a-copy\n",
      "  filtered_df_copy['Patient_Age'] = filtered_dataframe['Patient_Age']\n",
      "/var/folders/4x/93t8x08s0s15_93t7b53wtzr0000gn/T/ipykernel_10121/2944302322.py:12: SettingWithCopyWarning: \n",
      "A value is trying to be set on a copy of a slice from a DataFrame.\n",
      "Try using .loc[row_indexer,col_indexer] = value instead\n",
      "\n",
      "See the caveats in the documentation: https://pandas.pydata.org/pandas-docs/stable/user_guide/indexing.html#returning-a-view-versus-a-copy\n",
      "  filtered_df_copy['MIC'] = filtered_dataframe['MIC']\n",
      "/var/folders/4x/93t8x08s0s15_93t7b53wtzr0000gn/T/ipykernel_10121/2944302322.py:13: SettingWithCopyWarning: \n",
      "A value is trying to be set on a copy of a slice from a DataFrame.\n",
      "Try using .loc[row_indexer,col_indexer] = value instead\n",
      "\n",
      "See the caveats in the documentation: https://pandas.pydata.org/pandas-docs/stable/user_guide/indexing.html#returning-a-view-versus-a-copy\n",
      "  filtered_df_copy['MIC_Interpretation'] = filtered_dataframe['MIC_Interpretation']\n"
     ]
    }
   ],
   "source": [
    "filtered_dataframe.reset_index(drop=True, inplace=True)\n",
    "filtered_dataframe.index = filtered_dataframe.index + 1\n",
    "\n",
    "filtered_df_copy.reset_index(drop=True, inplace=True)\n",
    "filtered_df_copy.index = filtered_df_copy.index + 1\n",
    "\n",
    "\n",
    "# send to result to df_copy\n",
    "filtered_df_copy['Patient_Age'] = filtered_dataframe['Patient_Age']\n",
    "filtered_df_copy['MIC'] = filtered_dataframe['MIC']\n",
    "filtered_df_copy['MIC_Interpretation'] = filtered_dataframe['MIC_Interpretation']\n",
    "\n",
    "print(filtered_df_copy)\n",
    "print(filtered_df_copy.shape)\n",
    "\n",
    "# get the result and create the file\n",
    "filtered_df_copy.to_csv(\"HW1_1_Result.csv\")"
   ]
  },
  {
   "cell_type": "code",
   "execution_count": null,
   "id": "61b7dfb7",
   "metadata": {},
   "outputs": [],
   "source": []
  }
 ],
 "metadata": {
  "kernelspec": {
   "display_name": "Python 3 (ipykernel)",
   "language": "python",
   "name": "python3"
  },
  "language_info": {
   "codemirror_mode": {
    "name": "ipython",
    "version": 3
   },
   "file_extension": ".py",
   "mimetype": "text/x-python",
   "name": "python",
   "nbconvert_exporter": "python",
   "pygments_lexer": "ipython3",
   "version": "3.11.4"
  }
 },
 "nbformat": 4,
 "nbformat_minor": 5
}
