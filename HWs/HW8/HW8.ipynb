{
 "cells": [
  {
   "cell_type": "code",
   "execution_count": 24,
   "id": "cdcb151e",
   "metadata": {},
   "outputs": [
    {
     "name": "stdout",
     "output_type": "stream",
     "text": [
      "Selected features by SFS: ['3', '5', '8']\n",
      "PCA components:\n",
      " [[ 4.02787214e-01 -8.97491488e-02  3.92004483e-01 -1.14429471e-01\n",
      "  -1.10656218e-01  3.97935371e-01 -4.05388894e-01  3.62036324e-01\n",
      "  -2.84697121e-01 -3.38682807e-01 -3.43427240e-02 -4.49017163e-04]\n",
      " [ 2.53662510e-02  6.01685161e-01  2.73033024e-02 -1.07972610e-01\n",
      "   5.52985747e-01  5.20818243e-02 -5.24225229e-02  4.50005929e-02\n",
      "  -4.60862826e-02 -8.68103356e-02  5.49522563e-01  3.74307683e-03]\n",
      " [-1.04076160e-01 -2.52269844e-02 -1.80239095e-01 -6.48749814e-01\n",
      "  -8.47981246e-02 -1.19314555e-01 -1.37715606e-02 -2.22526769e-01\n",
      "  -4.44212659e-01 -6.52660113e-02 -2.35888555e-02  5.11755628e-01]]\n",
      "Explained variance ratio: [0.46187799 0.21175161 0.10063814]\n",
      "Accuracy with SFS selected features: 0.8776595744680851\n",
      "Accuracy with PCA: 0.8138297872340425\n",
      "Accuracy with LDA: 0.8617021276595744\n"
     ]
    }
   ],
   "source": [
    "import numpy as np\n",
    "import pandas as pd\n",
    "from sklearn.decomposition import PCA\n",
    "from sklearn.discriminant_analysis import LinearDiscriminantAnalysis as LDA\n",
    "from mlxtend.feature_selection import SequentialFeatureSelector as SFS\n",
    "from sklearn.neighbors import KNeighborsClassifier\n",
    "from matplotlib import pyplot as plt\n",
    "from sklearn.metrics import accuracy_score\n",
    "from sklearn.preprocessing import StandardScaler\n",
    "\n",
    "# Load data\n",
    "df = pd.read_csv(\"/Users/zhangxijing/MasterNEU/INFO6105DataScienceEngineeringMethodsandTools/Dataset/world_ds.csv\", index_col=0)\n",
    "\n",
    "# Define features and label\n",
    "X = df.drop('development_status', axis=1)  # Assuming 'development_status' is the label\n",
    "y = df['development_status']\n",
    "\n",
    "# Normalize features\n",
    "scaler = StandardScaler()\n",
    "X_scaled = scaler.fit_transform(X)\n",
    "\n",
    "# Forward feature selection with SFS to select the best three features\n",
    "knn = KNeighborsClassifier(n_neighbors=5)\n",
    "sfs = SFS(knn, k_features=3, forward=True, scoring='accuracy', cv=5)\n",
    "sfs.fit(X_scaled, y)\n",
    "\n",
    "selected_features_names = list(sfs.k_feature_names_)\n",
    "print(\"Selected features by SFS:\", selected_features_names)\n",
    "\n",
    "# PCA\n",
    "pca = PCA(n_components=3)\n",
    "X_pca = pca.fit_transform(X_scaled)\n",
    "\n",
    "# Explaining each PC\n",
    "print(\"PCA components:\\n\", pca.components_)\n",
    "print(\"Explained variance ratio:\", pca.explained_variance_ratio_)\n",
    "\n",
    "# LDA\n",
    "lda = LDA(n_components=2)  # As we are aiming for 2 components\n",
    "X_lda = lda.fit_transform(X_scaled, y)\n",
    "\n",
    "# Accuracy comparison\n",
    "\n",
    "# Original selected features by SFS\n",
    "X_selected_sfs = X_scaled[:, sfs.k_feature_idx_]\n",
    "knn.fit(X_selected_sfs, y)\n",
    "y_pred_sfs = knn.predict(X_selected_sfs)\n",
    "accuracy_sfs = accuracy_score(y, y_pred_sfs)\n",
    "print(\"Accuracy with SFS selected features:\", accuracy_sfs)\n",
    "\n",
    "# PCA\n",
    "knn.fit(X_pca, y)\n",
    "y_pred_pca = knn.predict(X_pca)\n",
    "accuracy_pca = accuracy_score(y, y_pred_pca)\n",
    "print(\"Accuracy with PCA:\", accuracy_pca)\n",
    "\n",
    "# LDA\n",
    "knn.fit(X_lda, y)\n",
    "y_pred_lda = knn.predict(X_lda)\n",
    "accuracy_lda = accuracy_score(y, y_pred_lda)\n",
    "print(\"Accuracy with LDA:\", accuracy_lda)"
   ]
  },
  {
   "cell_type": "code",
   "execution_count": null,
   "id": "40d73012",
   "metadata": {},
   "outputs": [],
   "source": []
  }
 ],
 "metadata": {
  "kernelspec": {
   "display_name": "Python 3 (ipykernel)",
   "language": "python",
   "name": "python3"
  },
  "language_info": {
   "codemirror_mode": {
    "name": "ipython",
    "version": 3
   },
   "file_extension": ".py",
   "mimetype": "text/x-python",
   "name": "python",
   "nbconvert_exporter": "python",
   "pygments_lexer": "ipython3",
   "version": "3.11.4"
  }
 },
 "nbformat": 4,
 "nbformat_minor": 5
}
