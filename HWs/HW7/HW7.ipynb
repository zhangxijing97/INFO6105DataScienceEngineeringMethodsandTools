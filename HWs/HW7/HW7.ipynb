{
 "cells": [
  {
   "cell_type": "code",
   "execution_count": 10,
   "id": "0b66b45f",
   "metadata": {},
   "outputs": [
    {
     "name": "stdout",
     "output_type": "stream",
     "text": [
      "Test accuracy:  0.9230769230769231\n"
     ]
    },
    {
     "name": "stderr",
     "output_type": "stream",
     "text": [
      "/Users/zhangxijing/anaconda3/lib/python3.11/site-packages/sklearn/utils/validation.py:1184: DataConversionWarning: A column-vector y was passed when a 1d array was expected. Please change the shape of y to (n_samples, ), for example using ravel().\n",
      "  y = column_or_1d(y, warn=True)\n"
     ]
    }
   ],
   "source": [
    "import pandas as pd\n",
    "from matplotlib.pyplot import *\n",
    "from pydtmc import *\n",
    "from sklearn.naive_bayes import *\n",
    "from sklearn.model_selection import train_test_split\n",
    "\n",
    "#Naive Bayes\n",
    "#Input Dateset\n",
    "org_df = pd.read_csv(\"/Users/zhangxijing/MasterNEU/INFO6105DataScienceEngineeringMethodsandTools/Dataset/amr_ds.csv\")\n",
    "\n",
    "#Labels and Features\n",
    "label_df = org_df.loc[:,org_df.columns == 'Not_MDR']\n",
    "feat_df = org_df.loc[:,org_df.columns != 'Not_MDR']\n",
    "\n",
    "#Split Train and Test Data\n",
    "x_train, x_test, y_train, y_test = train_test_split(feat_df, label_df, test_size = 0.25, random_state=1)\n",
    "\n",
    "#Create Naive Bayes Model\n",
    "nb_model = CategoricalNB()  #GaussianNB for numeric datasets\n",
    "nb_model.fit(x_train, y_train)\n",
    "\n",
    "#Accuracy of Model\n",
    "test_accuracy = nb_model.score(x_test, y_test)\n",
    "print(\"Test accuracy: \", test_accuracy)"
   ]
  },
  {
   "cell_type": "code",
   "execution_count": 16,
   "id": "cbb7d843",
   "metadata": {},
   "outputs": [
    {
     "name": "stdout",
     "output_type": "stream",
     "text": [
      "amp_pen: 107, amp_nmdr: 6, pen_nmdr: 55\n"
     ]
    }
   ],
   "source": [
    "import pandas as pd\n",
    "\n",
    "# Load dataset\n",
    "df = pd.read_csv(\"/Users/zhangxijing/MasterNEU/INFO6105DataScienceEngineeringMethodsandTools/Dataset/amr_ds.csv\")\n",
    "\n",
    "# Calculations\n",
    "amp_pen = len(df[(df['Ampicillin'] == 1) & (df['Penicillin'] == 1)])\n",
    "amp_nmdr = len(df[(df['Ampicillin'] == 1) & (df['Not_MDR'] == 1)])\n",
    "pen_nmdr = len(df[(df['Penicillin'] == 1) & (df['Not_MDR'] == 1)])\n",
    "\n",
    "print(f\"amp_pen: {amp_pen}, amp_nmdr: {amp_nmdr}, pen_nmdr: {pen_nmdr}\")"
   ]
  },
  {
   "cell_type": "code",
   "execution_count": 15,
   "id": "dc058b23",
   "metadata": {},
   "outputs": [
    {
     "name": "stdout",
     "output_type": "stream",
     "text": [
      "\n",
      "DISCRETE-TIME MARKOV CHAIN\n",
      " SIZE:           3\n",
      " RANK:           3\n",
      " CLASSES:        1\n",
      "  > RECURRENT:   1\n",
      "  > TRANSIENT:   0\n",
      " ERGODIC:        YES\n",
      "  > APERIODIC:   YES\n",
      "  > IRREDUCIBLE: YES\n",
      " ABSORBING:      NO\n",
      " REGULAR:        YES\n",
      " REVERSIBLE:     YES\n",
      " SYMMETRIC:      NO\n",
      "\n",
      "Stationary states (long-term probabilities): [array([0.33630952, 0.48214286, 0.18154762])]\n"
     ]
    }
   ],
   "source": [
    "from pydtmc import MarkovChain\n",
    "import matplotlib.pyplot as plt\n",
    "\n",
    "# Assuming amp_pen, amp_nmdr, and pen_nmdr have been calculated as above\n",
    "\n",
    "# Construct the transition matrix\n",
    "transition_matrix = [\n",
    "    [0, amp_pen / (amp_nmdr + amp_pen), amp_nmdr / (amp_nmdr + amp_pen)],\n",
    "    [amp_pen / (pen_nmdr + amp_pen), 0, pen_nmdr / (pen_nmdr + amp_pen)],\n",
    "    [amp_nmdr / (amp_nmdr + pen_nmdr), pen_nmdr / (amp_nmdr + pen_nmdr), 0]\n",
    "]\n",
    "\n",
    "# The states\n",
    "states = ['Ampicillin', 'Penicillin', 'Not_MDR']\n",
    "\n",
    "# Create the Markov Chain\n",
    "mc = MarkovChain(transition_matrix, states)\n",
    "\n",
    "# Print the Markov Chain\n",
    "print(mc)\n",
    "\n",
    "# Show stationary state\n",
    "print(\"Stationary states (long-term probabilities):\", mc.steady_states)"
   ]
  },
  {
   "cell_type": "code",
   "execution_count": 18,
   "id": "7b248fbc",
   "metadata": {},
   "outputs": [
    {
     "name": "stdout",
     "output_type": "stream",
     "text": [
      "Most probable sequence of states: ['Pen', 'NMDR', 'Pen']\n"
     ]
    }
   ],
   "source": [
    "# Emission Probabilities\n",
    "emissions = {\n",
    "    'Amp': {'No Infection': 0.4, 'Infection': 0.6},\n",
    "    'Pen': {'No Infection': 0.3, 'Infection': 0.7},\n",
    "    'NMDR': {'No Infection': 0.8, 'Infection': 0.2}\n",
    "}\n",
    "\n",
    "# Observed sequence\n",
    "observed_sequence = ['Infection', 'No Infection', 'Infection']\n",
    "\n",
    "# Predict the most probable sequence of states\n",
    "predicted_states = []\n",
    "\n",
    "for observation in observed_sequence:\n",
    "    # Determine the state with the highest probability for the given observation\n",
    "    highest_prob_state = max(emissions, key=lambda state: emissions[state][observation])\n",
    "    predicted_states.append(highest_prob_state)\n",
    "\n",
    "print(\"Most probable sequence of states:\", predicted_states)"
   ]
  },
  {
   "cell_type": "code",
   "execution_count": null,
   "id": "29d6892f",
   "metadata": {},
   "outputs": [],
   "source": []
  }
 ],
 "metadata": {
  "kernelspec": {
   "display_name": "Python 3 (ipykernel)",
   "language": "python",
   "name": "python3"
  },
  "language_info": {
   "codemirror_mode": {
    "name": "ipython",
    "version": 3
   },
   "file_extension": ".py",
   "mimetype": "text/x-python",
   "name": "python",
   "nbconvert_exporter": "python",
   "pygments_lexer": "ipython3",
   "version": "3.11.4"
  }
 },
 "nbformat": 4,
 "nbformat_minor": 5
}
